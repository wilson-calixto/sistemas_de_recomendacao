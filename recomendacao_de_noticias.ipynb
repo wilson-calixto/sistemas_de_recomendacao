{
 "cells": [
  {
   "cell_type": "markdown",
   "metadata": {},
   "source": [
    "## Prova de conceito: Sistema de recomendação de notícias usando distância euclidiana\n"
   ]
  },
  {
   "cell_type": "code",
   "execution_count": 1,
   "metadata": {
    "collapsed": true
   },
   "outputs": [],
   "source": [
    "from base_de_dados import avaliacoes, topicos\n",
    "from math import sqrt\n",
    "import numpy as np\n"
   ]
  },
  {
   "cell_type": "markdown",
   "metadata": {},
   "source": [
    "## Distância euclidiana"
   ]
  },
  {
   "cell_type": "code",
   "execution_count": 2,
   "metadata": {
    "collapsed": true
   },
   "outputs": [],
   "source": [
    "def euclidiana (usuario1, usuario2):\n",
    "    i = False\n",
    "    for item in avaliacoes[usuario1]:\n",
    "        if item in avaliacoes[usuario2]:\n",
    "            i = True\n",
    "            break\n",
    "    if not i:\n",
    "        return 0\n",
    "    r = sqrt(sum([pow(avaliacoes[usuario1][item] - avaliacoes[usuario2][item], 2) for item in avaliacoes[usuario1] if item in avaliacoes[usuario2]]))\n",
    "    return (1/(1+r))\n"
   ]
  },
  {
   "cell_type": "markdown",
   "metadata": {},
   "source": [
    "## TEC´s POISSON | TS´s TRIANGULAR"
   ]
  },
  {
   "cell_type": "code",
   "execution_count": 3,
   "metadata": {
    "collapsed": true
   },
   "outputs": [],
   "source": [
    "def getSimilares(usuario):\n",
    "    similaridade = [(euclidiana(usuario, outro), outro) for outro in avaliacoes if outro != usuario]\n",
    "    similaridade.sort()\n",
    "    similaridade.reverse()\n",
    "    return similaridade"
   ]
  },
  {
   "cell_type": "markdown",
   "metadata": {},
   "source": [
    "## TEC´s  POISSON | TS´s NORMAL"
   ]
  },
  {
   "cell_type": "code",
   "execution_count": 4,
   "metadata": {
    "collapsed": true
   },
   "outputs": [],
   "source": [
    "def getRecomendacoes(usuario):\n",
    "    totais = {}\n",
    "    somaSimilaridade = {}\n",
    "    for outro in avaliacoes:\n",
    "        if outro == usuario: continue\n",
    "        similaridade = euclidiana(usuario, outro)\n",
    "        if similaridade <= 0: continue\n",
    "        for item in avaliacoes[outro]:\n",
    "            #### somente o que o usuário alvo ainda não avaliou\n",
    "            if item not in avaliacoes[usuario]:\n",
    "                totais.setdefault(item, 0)\n",
    "                totais[item] += avaliacoes[outro][item] * similaridade\n",
    "                somaSimilaridade.setdefault(item, 0)\n",
    "                somaSimilaridade[item] += similaridade\n",
    "    rankings = [(total/somaSimilaridade[item], item) for item, total in totais.items()]\n",
    "    rankings.sort()\n",
    "    rankings.reverse()\n",
    "    return rankings"
   ]
  },
  {
   "cell_type": "markdown",
   "metadata": {},
   "source": [
    "## TEC´s POISSON | TS´s EXPONENCIAL"
   ]
  },
  {
   "cell_type": "code",
   "execution_count": 5,
   "metadata": {},
   "outputs": [
    {
     "name": "stdout",
     "output_type": "stream",
     "text": [
      "Numero:         topico\n",
      "    0 --------- economia internacional\n",
      "    1           economia ibovespa\n",
      "    2 --------- economia comercio internacional\n",
      "    3           combate a corrupcao\n",
      "    4 --------- greves\n",
      "    5           politica eleicoes 2018\n",
      "    6 --------- entretenimento automotivo\n",
      "    7           entretenimento motomotivo\n",
      "    8 --------- games\n",
      "    9           enem\n",
      "    10 --------- culinaria\n",
      "    11           cinema\n",
      "    12 --------- mundo\n",
      "    13           ciencia e saude\n",
      "    14 --------- bem estar\n",
      "    15           turismo\n",
      "    16 --------- saude publica\n",
      "    17           segurança publica\n",
      "    18 --------- tecnologia\n",
      "    19           midia e marketing\n",
      "    20 --------- religião\n",
      "    21           tragédias\n",
      "    22 --------- meio ambiente\n",
      "    23           acidentes\n",
      "    24 --------- pop e art\n",
      "    25           futebol dentro de campo\n",
      "    26 --------- futebol bastidores\n",
      "    27           educacao\n",
      "    28 --------- guerras civis\n"
     ]
    }
   ],
   "source": [
    "print(\"Numero:         topico\")\n",
    "for i in range(len(topicos)):\n",
    "\tif(i % 2 ==0):\n",
    "\t\tprint(\"   \",i,\"---------\",topicos[i])\n",
    "\telse:\n",
    "\t\tprint(\"   \",i,\"         \",topicos[i])\n"
   ]
  },
  {
   "cell_type": "code",
   "execution_count": 12,
   "metadata": {},
   "outputs": [
    {
     "name": "stdout",
     "output_type": "stream",
     "text": [
      "Digite o numero do topico que vocẽ deseja\n",
      "1\n",
      "\n",
      "\n",
      " Voce escolheu o topico: economia ibovespa \n",
      "\n",
      "\n",
      "\n",
      "Similaridade: 0.6666666666666666 | topico: enem\n",
      "\n",
      "Similaridade: 0.5 | topico: ciencia e saude\n",
      "\n",
      "Similaridade: 0.4721359549995794 | topico: economia internacional\n",
      "\n",
      "Similaridade: 0.3333333333333333 | topico: economia comercio internacional\n",
      "\n",
      "Similaridade: 0.2989350844248255 | topico: games\n",
      "\n",
      "Similaridade: 0.25 | topico: saude publica\n",
      "\n",
      "Similaridade: 0.25 | topico: entretenimento motomotivo\n",
      "\n",
      "Similaridade: 0.2402530733520421 | topico: tecnologia\n",
      "\n",
      "Similaridade: 0.23582845781094 | topico: mundo\n",
      "\n",
      "Similaridade: 0.2 | topico: religião\n",
      "\n",
      "Similaridade: 0.2 | topico: pop e art\n",
      "\n",
      "Similaridade: 0.2 | topico: midia e marketing\n",
      "\n",
      "Similaridade: 0.19636040545626823 | topico: combate a corrupcao\n",
      "\n",
      "Similaridade: 0.1951941016011038 | topico: segurança publica\n",
      "\n",
      "Similaridade: 0.1951941016011038 | topico: culinaria\n",
      "\n",
      "Similaridade: 0.1827439976315568 | topico: turismo\n",
      "\n",
      "Similaridade: 0.1827439976315568 | topico: guerras civis\n",
      "\n",
      "Similaridade: 0.1827439976315568 | topico: bem estar\n",
      "\n",
      "Similaridade: 0.1765633506768389 | topico: politica eleicoes 2018\n",
      "\n",
      "Similaridade: 0.1765633506768389 | topico: futebol dentro de campo\n",
      "\n",
      "Similaridade: 0.16879264089884097 | topico: entretenimento automotivo\n",
      "\n",
      "Similaridade: 0.16879264089884097 | topico: acidentes\n",
      "\n",
      "Similaridade: 0.16666666666666666 | topico: tragédias\n",
      "\n",
      "Similaridade: 0.16666666666666666 | topico: educacao\n",
      "\n",
      "Similaridade: 0.1512290518085545 | topico: futebol bastidores\n",
      "\n",
      "Similaridade: 0.15022110482233483 | topico: meio ambiente\n",
      "\n",
      "Similaridade: 0.14972506706560876 | topico: cinema\n",
      "\n",
      "Similaridade: 0.10997220198634608 | topico: greves\n"
     ]
    }
   ],
   "source": [
    "topico_escolhido=int(input(\"Digite o numero do topico que vocẽ deseja\\n\"))\n",
    "\n",
    "\n",
    "if (topico_escolhido >=0 and topico_escolhido < len(topicos)):\n",
    "    print(\"\\n\\n Voce escolheu o topico:\",topicos[topico_escolhido],\"\\n\\n\")\n",
    "    for i in getSimilares(topicos[topico_escolhido]):\n",
    "        print(\"\\nSimilaridade:\",i[0],\"| topico:\",i[1])\n",
    "else:\n",
    "\tprint(\"Vocẽ digitou um numero inválido\")"
   ]
  },
  {
   "cell_type": "code",
   "execution_count": null,
   "metadata": {
    "collapsed": true
   },
   "outputs": [],
   "source": []
  }
 ],
 "metadata": {
  "kernelspec": {
   "display_name": "Python 3",
   "language": "python",
   "name": "python3"
  },
  "language_info": {
   "codemirror_mode": {
    "name": "ipython",
    "version": 3
   },
   "file_extension": ".py",
   "mimetype": "text/x-python",
   "name": "python",
   "nbconvert_exporter": "python",
   "pygments_lexer": "ipython3",
   "version": "3.6.3"
  }
 },
 "nbformat": 4,
 "nbformat_minor": 2
}
